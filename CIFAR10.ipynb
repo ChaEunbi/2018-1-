{
 "cells": [
  {
   "cell_type": "code",
   "execution_count": 82,
   "metadata": {
    "collapsed": true
   },
   "outputs": [],
   "source": [
    "import torch\n",
    "import torchvision\n",
    "import torchvision.transforms as transforms"
   ]
  },
  {
   "cell_type": "code",
   "execution_count": 93,
   "metadata": {
    "collapsed": true
   },
   "outputs": [],
   "source": [
    "batchsize=8\n",
    "epoch_num=5\n",
    "learning_rate=0.0002"
   ]
  },
  {
   "cell_type": "code",
   "execution_count": 94,
   "metadata": {},
   "outputs": [
    {
     "name": "stdout",
     "output_type": "stream",
     "text": [
      "Files already downloaded and verified\n",
      "Files already downloaded and verified\n"
     ]
    }
   ],
   "source": [
    "transform = transforms.Compose(\n",
    "    [transforms.ToTensor(),\n",
    "     transforms.Normalize((0.5, 0.5, 0.5), (0.5, 0.5, 0.5))])\n",
    "\n",
    "trainset = torchvision.datasets.CIFAR10(root='./data', train=True,\n",
    "                                        download=True, transform=transform)\n",
    "trainloader = torch.utils.data.DataLoader(trainset, batch_size=batchsize,\n",
    "                                          shuffle=True, num_workers=2)\n",
    "\n",
    "testset = torchvision.datasets.CIFAR10(root='./data', train=False,\n",
    "                                       download=True, transform=transform)\n",
    "testloader = torch.utils.data.DataLoader(testset, batch_size=batchsize,\n",
    "                                         shuffle=False, num_workers=2)\n",
    "\n",
    "classes = ('plane', 'car', 'bird', 'cat',\n",
    "           'deer', 'dog', 'frog', 'horse', 'ship', 'truck')"
   ]
  },
  {
   "cell_type": "code",
   "execution_count": 95,
   "metadata": {},
   "outputs": [],
   "source": [
    "import torch.nn as nn\n",
    "import torch.nn.functional as F\n",
    "\n",
    "\n",
    "class Net(nn.Module):\n",
    "    def __init__(self):\n",
    "        super(Net, self).__init__()\n",
    "        self.conv1 = nn.Conv2d(3, 6, 5)\n",
    "        self.pool = nn.MaxPool2d(2, 2)\n",
    "        self.conv2 = nn.Conv2d(6, 16, 5)\n",
    "        self.fc1 = nn.Linear(16 * 5 * 5, 120)\n",
    "        self.fc2 = nn.Linear(120, 84)\n",
    "        self.fc3 = nn.Linear(84, 10)\n",
    "\n",
    "    def forward(self, x):\n",
    "        x = self.pool(F.relu(self.conv1(x)))\n",
    "        x = self.pool(F.relu(self.conv2(x)))\n",
    "        x = x.view(-1, 16 * 5 * 5)\n",
    "        x = F.relu(self.fc1(x))\n",
    "        x = F.relu(self.fc2(x))\n",
    "        x = self.fc3(x)\n",
    "        return x  \n",
    "\n",
    "net = Net()\n",
    "\n",
    "if torch.cuda.is_available():\n",
    "    net.to(device)"
   ]
  },
  {
   "cell_type": "code",
   "execution_count": 96,
   "metadata": {},
   "outputs": [],
   "source": [
    "import torch.optim as optim\n",
    "\n",
    "criterion = nn.CrossEntropyLoss()\n",
    "optimizer = optim.Adam(net.parameters(), lr=learning_rate)"
   ]
  },
  {
   "cell_type": "code",
   "execution_count": 97,
   "metadata": {},
   "outputs": [
    {
     "name": "stdout",
     "output_type": "stream",
     "text": [
      "Number of epochs: 1, Per Batch: 0\n",
      "Number of epochs: 1, Per Batch: 1000\n",
      "Number of epochs: 1, Per Batch: 2000\n",
      "Number of epochs: 1, Per Batch: 3000\n",
      "Number of epochs: 1, Per Batch: 4000\n",
      "Number of epochs: 1, Per Batch: 5000\n",
      "Number of epochs: 1, Per Batch: 6000\n",
      "Number of epochs: 2, Per Batch: 0\n",
      "Number of epochs: 2, Per Batch: 1000\n",
      "Number of epochs: 2, Per Batch: 2000\n",
      "Number of epochs: 2, Per Batch: 3000\n",
      "Number of epochs: 2, Per Batch: 4000\n",
      "Number of epochs: 2, Per Batch: 5000\n",
      "Number of epochs: 2, Per Batch: 6000\n",
      "Number of epochs: 3, Per Batch: 0\n",
      "Number of epochs: 3, Per Batch: 1000\n",
      "Number of epochs: 3, Per Batch: 2000\n",
      "Number of epochs: 3, Per Batch: 3000\n",
      "Number of epochs: 3, Per Batch: 4000\n",
      "Number of epochs: 3, Per Batch: 5000\n",
      "Number of epochs: 3, Per Batch: 6000\n",
      "Number of epochs: 4, Per Batch: 0\n",
      "Number of epochs: 4, Per Batch: 1000\n",
      "Number of epochs: 4, Per Batch: 2000\n",
      "Number of epochs: 4, Per Batch: 3000\n",
      "Number of epochs: 4, Per Batch: 4000\n",
      "Number of epochs: 4, Per Batch: 5000\n",
      "Number of epochs: 4, Per Batch: 6000\n",
      "Number of epochs: 5, Per Batch: 0\n",
      "Number of epochs: 5, Per Batch: 1000\n",
      "Number of epochs: 5, Per Batch: 2000\n",
      "Number of epochs: 5, Per Batch: 3000\n",
      "Number of epochs: 5, Per Batch: 4000\n",
      "Number of epochs: 5, Per Batch: 5000\n",
      "Number of epochs: 5, Per Batch: 6000\n",
      "Finished Training\n"
     ]
    }
   ],
   "source": [
    "#Training the network\n",
    "\n",
    "if torch.cuda.is_available():\n",
    "    for epoch in range(epoch_num):  \n",
    "        for i,(images, labels) in enumerate(trainloader):\n",
    "            images=images.to(device)\n",
    "            labels=labels.to(device)\n",
    "            \n",
    "            optimizer.zero_grad()\n",
    "\n",
    "            #Forward Backward Optimize\n",
    "            outputs = net(images)\n",
    "            loss = criterion(outputs, labels)\n",
    "            loss.backward()\n",
    "            optimizer.step()\n",
    "\n",
    "            # print statistics\n",
    "            if i%1000==0:\n",
    "                print('Number of epochs: %d, Mini Batch order: %d' %(epoch+1,i))\n",
    "                #torch.save(model,'./cifar_model.pkl')              \n",
    "else:\n",
    "    for epoch in range(epoch_num):  \n",
    "        for i, data in enumerate(trainloader,0):\n",
    "            inputs, labels = data \n",
    "            \n",
    "            optimizer.zero_grad()\n",
    "\n",
    "            #Forward Backward Optimize\n",
    "            outputs = net(inputs)\n",
    "            loss = criterion(outputs, labels)\n",
    "            loss.backward()\n",
    "            optimizer.step()\n",
    "\n",
    "                # print statistics\n",
    "            if i%1000==0:\n",
    "                print('Number of epochs: %d, Per Batch: %d' %(epoch+1,i))\n",
    "                #torch.save(model,'./cifar_model.pkl')\n",
    "\n",
    "print('Finished Training')\n"
   ]
  },
  {
   "cell_type": "code",
   "execution_count": 98,
   "metadata": {},
   "outputs": [
    {
     "name": "stdout",
     "output_type": "stream",
     "text": [
      "Accuracy of the Data: 58 %\n"
     ]
    }
   ],
   "source": [
    "#Test data\n",
    "with torch.no_grad():\n",
    "    num_correct = 0\n",
    "    total_data = 0\n",
    "    if torch.cuda.is_available():\n",
    "        for images, labels in testloader:\n",
    "            images=images.to(device)\n",
    "            labels=labels.to(device)\n",
    "            output = net(image)\n",
    "            _, expected = torch.max(output.data, 1)\n",
    "\n",
    "            total_data += labels.size(0)\n",
    "            num_correct += (expected == labels).sum().item()\n",
    "    else:\n",
    "        for data in testloader:\n",
    "            image, label=data\n",
    "            output = net(image)\n",
    "            _, expected = torch.max(output.data, 1)\n",
    "\n",
    "            total_data += label.size(0)\n",
    "            num_correct += (expected == label).sum().item()\n",
    "        \n",
    "print('Accuracy of the Data: %d %%' % (100 * num_correct / total_data))"
   ]
  },
  {
   "cell_type": "code",
   "execution_count": 99,
   "metadata": {},
   "outputs": [
    {
     "name": "stdout",
     "output_type": "stream",
     "text": [
      "Accuracy of plane : 76 %\n",
      "Accuracy of   car : 69 %\n",
      "Accuracy of  bird : 41 %\n",
      "Accuracy of   cat : 34 %\n",
      "Accuracy of  deer : 47 %\n",
      "Accuracy of   dog : 50 %\n",
      "Accuracy of  frog : 67 %\n",
      "Accuracy of horse : 67 %\n",
      "Accuracy of  ship : 59 %\n",
      "Accuracy of truck : 67 %\n"
     ]
    }
   ],
   "source": [
    "class_correct = list(0. for i in range(10))\n",
    "class_total = list(0. for i in range(10))\n",
    "with torch.no_grad():\n",
    "    for data in testloader:\n",
    "        images, labels = data\n",
    "        output = net(images)\n",
    "        _, expected = torch.max(output, 1)\n",
    "        c = (expected == labels).squeeze()\n",
    "        for i in range(4):\n",
    "            label = labels[i]\n",
    "            class_correct[label] += c[i].item()\n",
    "            class_total[label] += 1\n",
    "\n",
    "\n",
    "for i in range(10):\n",
    "    print('Accuracy of %5s : %2d %%' % (\n",
    "        classes[i], 100 * class_correct[i] / class_total[i]))"
   ]
  },
  {
   "cell_type": "code",
   "execution_count": null,
   "metadata": {
    "collapsed": true
   },
   "outputs": [],
   "source": []
  },
  {
   "cell_type": "code",
   "execution_count": null,
   "metadata": {},
   "outputs": [],
   "source": []
  },
  {
   "cell_type": "code",
   "execution_count": null,
   "metadata": {
    "collapsed": true
   },
   "outputs": [],
   "source": []
  }
 ],
 "metadata": {
  "kernelspec": {
   "display_name": "PyTorch",
   "language": "python",
   "name": "pytorch"
  },
  "language_info": {
   "codemirror_mode": {
    "name": "ipython",
    "version": 3
   },
   "file_extension": ".py",
   "mimetype": "text/x-python",
   "name": "python",
   "nbconvert_exporter": "python",
   "pygments_lexer": "ipython3",
   "version": "3.6.5"
  }
 },
 "nbformat": 4,
 "nbformat_minor": 2
}
