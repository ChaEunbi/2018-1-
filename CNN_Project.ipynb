{
 "cells": [
  {
   "cell_type": "code",
   "execution_count": 1,
   "metadata": {
    "collapsed": true
   },
   "outputs": [],
   "source": [
    "import torch\n",
    "import torchvision\n",
    "import torch.nn as nn\n",
    "import torch.optim as optim\n",
    "import torch.nn.functional as F\n",
    "import torchvision.transforms as transforms"
   ]
  },
  {
   "cell_type": "code",
   "execution_count": 2,
   "metadata": {
    "collapsed": true
   },
   "outputs": [],
   "source": [
    "batchsize=8\n",
    "epoch_num=5\n",
    "learning_rate=0.0002"
   ]
  },
  {
   "cell_type": "code",
   "execution_count": 3,
   "metadata": {},
   "outputs": [
    {
     "data": {
      "image/png": "[encoded data removed]",
      "text/plain": [
       "<matplotlib.figure.Figure at 0x7f548cf589b0>"
      ]
     },
     "metadata": {},
     "output_type": "display_data"
    }
   ],
   "source": [
    "# coding: utf-8\n",
    "\n",
    "# In[2]:\n",
    "\n",
    "\n",
    "from __future__ import print_function, division\n",
    "\n",
    "\n",
    "# In[87]:\n",
    "\n",
    "\n",
    "import os\n",
    "#import torch\n",
    "import pandas as pd\n",
    "from skimage import io, transform\n",
    "import numpy as np\n",
    "import matplotlib.pyplot as plt\n",
    "from torch.utils.data import Dataset, DataLoader\n",
    "from torchvision import utils\n",
    "#import torchvision\n",
    "\n",
    "\n",
    "# In[88]:\n",
    "\n",
    "\n",
    "plt.ion()\n",
    "\n",
    "\n",
    "# In[104]:\n",
    "\n",
    "\n",
    "transform_train = transforms.Compose([\n",
    "    transforms.RandomCrop(24),\n",
    "    transforms.RandomHorizontalFlip(),\n",
    "    #transforms.ColorJitter(2, 2),\n",
    "    transforms.ToTensor(),\n",
    "    transforms.Normalize((0.5, 0.5, 0.5), (0.5, 0.5, 0.5)),\n",
    "    #transforms.RandomAffine(15, shear=15),\n",
    "])\n",
    "\n",
    "transform_test = transforms.Compose([\n",
    "    transforms.CenterCrop(24),\n",
    "    transforms.ToTensor(),\n",
    "    transforms.Normalize((0.5, 0.5, 0.5), (0.5, 0.5, 0.5))\n",
    "])\n",
    "\n",
    "\n",
    "# In[105]:\n",
    "\n",
    "\n",
    "trainset = torchvision.datasets.CIFAR10(root='~/eunbi', train=True, transform=transform_train)\n",
    "trainloader = DataLoader(trainset, batch_size=batchsize, shuffle=True, num_workers=4)\n",
    "\n",
    "\n",
    "# In[106]:\n",
    "\n",
    "\n",
    "testset = torchvision.datasets.CIFAR10(root='~/eunbi', train=False, transform=transform_test)\n",
    "testloader = DataLoader(testset, batch_size=batchsize, shuffle=False, num_workers=4)\n",
    "\n",
    "\n",
    "# In[107]:\n",
    "\n",
    "\n",
    "num_classes = 10\n",
    "classes = ('airplane', 'automobile', 'bird', 'cat', 'deer', 'dog', 'frog', 'horse', 'ship', 'truck')\n",
    "\n",
    "\n",
    "# In[117]:\n",
    "\n",
    "\n",
    "fig = plt.figure()\n",
    "\n",
    "for i in range(4):\n",
    "    image, label = trainset[i]\n",
    "\n",
    "    ax = plt.subplot(1, 4, i + 1)\n",
    "    plt.tight_layout()\n",
    "    ax.set_title('#{}: {}'.format(i, classes[label]))\n",
    "    ax.axis('off')\n",
    "\n",
    "    image = image / 2 + 0.5     # unnormalize\n",
    "    npimage = image.numpy()\n",
    "    npimage = np.transpose(npimage, (1, 2, 0))\n",
    "    plt.imshow(npimage)\n",
    "\n"
   ]
  },
  {
   "cell_type": "code",
   "execution_count": 12,
   "metadata": {},
   "outputs": [
    {
     "ename": "AttributeError",
     "evalue": "'Net' object has no attribute 'to'",
     "output_type": "error",
     "traceback": [
      "\u001b[0;31m---------------------------------------------------------------------------\u001b[0m",
      "\u001b[0;31mAttributeError\u001b[0m                            Traceback (most recent call last)",
      "\u001b[0;32m<ipython-input-12-a8a5ea845aaf>\u001b[0m in \u001b[0;36m<module>\u001b[0;34m()\u001b[0m\n\u001b[1;32m     30\u001b[0m \u001b[0;34m\u001b[0m\u001b[0m\n\u001b[1;32m     31\u001b[0m \u001b[0;32mif\u001b[0m \u001b[0mtorch\u001b[0m\u001b[0;34m.\u001b[0m\u001b[0mcuda\u001b[0m\u001b[0;34m.\u001b[0m\u001b[0mis_available\u001b[0m\u001b[0;34m(\u001b[0m\u001b[0;34m)\u001b[0m\u001b[0;34m:\u001b[0m\u001b[0;34m\u001b[0m\u001b[0m\n\u001b[0;32m---> 32\u001b[0;31m     \u001b[0mnet\u001b[0m\u001b[0;34m.\u001b[0m\u001b[0mto\u001b[0m\u001b[0;34m(\u001b[0m\u001b[0mdevice\u001b[0m\u001b[0;34m)\u001b[0m\u001b[0;34m\u001b[0m\u001b[0m\n\u001b[0m",
      "\u001b[0;32m/home/tf_study/anaconda3/lib/python3.6/site-packages/torch/nn/modules/module.py\u001b[0m in \u001b[0;36m__getattr__\u001b[0;34m(self, name)\u001b[0m\n\u001b[1;32m    396\u001b[0m                 \u001b[0;32mreturn\u001b[0m \u001b[0mmodules\u001b[0m\u001b[0;34m[\u001b[0m\u001b[0mname\u001b[0m\u001b[0;34m]\u001b[0m\u001b[0;34m\u001b[0m\u001b[0m\n\u001b[1;32m    397\u001b[0m         raise AttributeError(\"'{}' object has no attribute '{}'\".format(\n\u001b[0;32m--> 398\u001b[0;31m             type(self).__name__, name))\n\u001b[0m\u001b[1;32m    399\u001b[0m \u001b[0;34m\u001b[0m\u001b[0m\n\u001b[1;32m    400\u001b[0m     \u001b[0;32mdef\u001b[0m \u001b[0m__setattr__\u001b[0m\u001b[0;34m(\u001b[0m\u001b[0mself\u001b[0m\u001b[0;34m,\u001b[0m \u001b[0mname\u001b[0m\u001b[0;34m,\u001b[0m \u001b[0mvalue\u001b[0m\u001b[0;34m)\u001b[0m\u001b[0;34m:\u001b[0m\u001b[0;34m\u001b[0m\u001b[0m\n",
      "\u001b[0;31mAttributeError\u001b[0m: 'Net' object has no attribute 'to'"
     ]
    }
   ],
   "source": [
    "class Net(nn.Module):\n",
    "    \n",
    "    def __init__(self):\n",
    "        super(Net, self).__init__()\n",
    "        self.conv1 = nn.Conv2d(3, 32, kernel_size=1)\n",
    "        self.conv2 = nn.Conv2d(32, 10, kernel_size=3)\n",
    "        self.conv3 = nn.Conv2d(10, 20, kernel_size=2)\n",
    "        self.conv4 = nn.Conv2d(20, 40, kernel_size=3)\n",
    "        self.conv5 = nn.Conv2d(40, 30, kernel_size=2)\n",
    "        self.mp = nn.MaxPool2d(2, stride=1, padding=1)\n",
    "        self.fc1 = nn.Linear(4805, 60)           # 500 can be changed\n",
    "        self.fc2 = nn.Linear(60, 30)\n",
    "        self.fc3 = nn.Linear(30, 10)\n",
    "        \n",
    "    def forward(self, x):\n",
    "        in_size = x.size(0)\n",
    "        x = F.relu(self.mp(self.conv1(x)))\n",
    "        x = F.relu(self.mp(self.conv2(x)))\n",
    "        x = F.relu(self.mp(self.conv3(x)))\n",
    "        x = F.relu(self.mp(self.conv4(x)))\n",
    "        x = F.relu(self.mp(self.conv5(x)))\n",
    "        x = x.view(in_size, -1)\n",
    "        x = F.relu(self.fc1(x))\n",
    "        x = F.relu(self.fc2(x))\n",
    "        x = self.fc3(x)\n",
    "        \n",
    "        return x\n",
    "\n",
    "net = Net()\n",
    "\n",
    "if torch.cuda.is_available():\n",
    "    net.to(device)"
   ]
  },
  {
   "cell_type": "code",
   "execution_count": 44,
   "metadata": {
    "collapsed": true
   },
   "outputs": [],
   "source": [
    "criterion = nn.CrossEntropyLoss()\n",
    "optimizer = optim.Adam(net.parameters(), lr=learning_rate)"
   ]
  },
  {
   "cell_type": "code",
   "execution_count": null,
   "metadata": {
    "collapsed": true
   },
   "outputs": [],
   "source": [
    "#Training the network\n",
    "\n",
    "if torch.cuda.is_available():\n",
    "    for epoch in range(epoch_num):  \n",
    "        for i,(images, labels) in enumerate(trainloader):\n",
    "            images=images.to(device)\n",
    "            labels=labels.to(device)\n",
    "            \n",
    "            optimizer.zero_grad()\n",
    "\n",
    "            #Forward Backward Optimize\n",
    "            outputs = net(images)\n",
    "            loss = criterion(outputs, labels)\n",
    "            loss.backward()\n",
    "            optimizer.step()\n",
    "\n",
    "            # print statistics\n",
    "            if i%1000==0:\n",
    "                print('Number of epochs: %d, Mini Batch order: %d' %(epoch+1,i))\n",
    "                #torch.save(model,'./cifar_model.pkl')              \n",
    "else:\n",
    "    for epoch in range(epoch_num):  \n",
    "        for i, data in enumerate(trainloader,0):\n",
    "            inputs, labels = data \n",
    "            \n",
    "            optimizer.zero_grad()\n",
    "\n",
    "            #Forward Backward Optimize\n",
    "            outputs = net(inputs)\n",
    "            loss = criterion(outputs, labels)\n",
    "            loss.backward()\n",
    "            optimizer.step()\n",
    "\n",
    "                # print statistics\n",
    "            if i%1000==0:\n",
    "                print('Number of epochs: %d, Per Batch: %d' %(epoch+1,i))\n",
    "                #torch.save(model,'./cifar_model.pkl')\n",
    "\n",
    "print('Finished Training')"
   ]
  },
  {
   "cell_type": "code",
   "execution_count": null,
   "metadata": {
    "collapsed": true
   },
   "outputs": [],
   "source": [
    "#Test data\n",
    "with torch.no_grad():\n",
    "    num_correct = 0\n",
    "    total_data = 0\n",
    "    if torch.cuda.is_available():\n",
    "        for images, labels in testloader:\n",
    "            images=images.to(device)\n",
    "            labels=labels.to(device)\n",
    "            output = net(image)\n",
    "            _, expected = torch.max(output.data, 1)\n",
    "\n",
    "            total_data += labels.size(0)\n",
    "            num_correct += (expected == labels).sum().item()\n",
    "    else:\n",
    "        for data in testloader:\n",
    "            image, label=data\n",
    "            output = net(image)\n",
    "            _, expected = torch.max(output.data, 1)\n",
    "\n",
    "            total_data += label.size(0)\n",
    "            num_correct += (expected == label).sum().item()\n",
    "        \n",
    "print('Accuracy of the Data: %d %%' % (100 * num_correct / total_data))"
   ]
  },
  {
   "cell_type": "code",
   "execution_count": null,
   "metadata": {
    "collapsed": true
   },
   "outputs": [],
   "source": [
    "class_correct = list(0. for i in range(10))\n",
    "class_total = list(0. for i in range(10))\n",
    "with torch.no_grad():\n",
    "    for data in testloader:\n",
    "        images, labels = data\n",
    "        output = net(images)\n",
    "        _, expected = torch.max(output, 1)\n",
    "        c = (expected == labels).squeeze()\n",
    "        for i in range(4):\n",
    "            label = labels[i]\n",
    "            class_correct[label] += c[i].item()\n",
    "            class_total[label] += 1\n",
    "\n",
    "\n",
    "for i in range(10):\n",
    "    print('Accuracy of %5s : %2d %%' % (\n",
    "        classes[i], 100 * class_correct[i] / class_total[i]))"
   ]
  }
 ],
 "metadata": {
  "kernelspec": {
   "display_name": "Python 3",
   "language": "python",
   "name": "python3"
  },
  "language_info": {
   "codemirror_mode": {
    "name": "ipython",
    "version": 3
   },
   "file_extension": ".py",
   "mimetype": "text/x-python",
   "name": "python",
   "nbconvert_exporter": "python",
   "pygments_lexer": "ipython3",
   "version": "3.6.1"
  }
 },
 "nbformat": 4,
 "nbformat_minor": 2
}
